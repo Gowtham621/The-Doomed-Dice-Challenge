{
  "nbformat": 4,
  "nbformat_minor": 0,
  "metadata": {
    "colab": {
      "provenance": []
    },
    "kernelspec": {
      "name": "python3",
      "display_name": "Python 3"
    },
    "language_info": {
      "name": "python"
    }
  },
  "cells": [
    {
      "cell_type": "markdown",
      "source": [
        "1. How many total combinations are possible? Show the math along with the code!\n"
      ],
      "metadata": {
        "id": "UUatptlnt9nw"
      }
    },
    {
      "cell_type": "code",
      "execution_count": 32,
      "metadata": {
        "colab": {
          "base_uri": "https://localhost:8080/"
        },
        "id": "aEGf8IaaTSBz",
        "outputId": "efdb97ce-19c0-4ad2-d97c-7cf838087c3f"
      },
      "outputs": [
        {
          "output_type": "stream",
          "name": "stdout",
          "text": [
            "Total Combinations are: 36\n"
          ]
        }
      ],
      "source": [
        "def combinations():\n",
        "  DieA=range(1,7)\n",
        "  DieB=range(1,7)\n",
        "  count = 0\n",
        "  for i in range(len(DieA)):\n",
        "    for j in range(len(DieB)):\n",
        "      count += 1\n",
        "  return(count)\n",
        "print(\"Total Combinations are:\",combinations())\n"
      ]
    },
    {
      "cell_type": "code",
      "source": [
        "DieA=range(1,7)\n",
        "DieB=range(1,7)"
      ],
      "metadata": {
        "id": "UCeYipJl3SBi"
      },
      "execution_count": 33,
      "outputs": []
    },
    {
      "cell_type": "markdown",
      "source": [
        "2. Calculate and display the distribution of all possible combinations that can be\n",
        "obtained when rolling both Die A and Die B together. Show the math along with\n",
        "the code!\n",
        "Hint: A 6 x 6 Matrix."
      ],
      "metadata": {
        "id": "N_umBc3Nw-ub"
      }
    },
    {
      "cell_type": "code",
      "source": [
        "Matrix = [[(i,j) for j in (DieA)] for i in (DieB)]\n",
        "for i in Matrix:\n",
        "  print(i)"
      ],
      "metadata": {
        "colab": {
          "base_uri": "https://localhost:8080/"
        },
        "id": "7GiPJugJwKPB",
        "outputId": "5672688b-dd05-4568-a34c-a8fe5c72ddc8"
      },
      "execution_count": 34,
      "outputs": [
        {
          "output_type": "stream",
          "name": "stdout",
          "text": [
            "[(1, 1), (1, 2), (1, 3), (1, 4), (1, 5), (1, 6)]\n",
            "[(2, 1), (2, 2), (2, 3), (2, 4), (2, 5), (2, 6)]\n",
            "[(3, 1), (3, 2), (3, 3), (3, 4), (3, 5), (3, 6)]\n",
            "[(4, 1), (4, 2), (4, 3), (4, 4), (4, 5), (4, 6)]\n",
            "[(5, 1), (5, 2), (5, 3), (5, 4), (5, 5), (5, 6)]\n",
            "[(6, 1), (6, 2), (6, 3), (6, 4), (6, 5), (6, 6)]\n"
          ]
        }
      ]
    },
    {
      "cell_type": "markdown",
      "source": [
        "3. Calculate the Probability of all Possible Sums occurring among the number of\n",
        "combinations from (2).\n",
        "Example: P(Sum = 2) = 1/X as there is only one combination possible to obtain\n",
        "Sum = 2. Die A = Die B = 1"
      ],
      "metadata": {
        "id": "xbHgniPjyqx-"
      }
    },
    {
      "cell_type": "code",
      "source": [
        "def prob(DieA,DieB):\n",
        "  combinations =[]\n",
        "  for i in DieA:\n",
        "    for j in DieB:\n",
        "      sum= i+j\n",
        "      combinations.append(sum)\n",
        "  count={}\n",
        "  value=[]\n",
        "  for i in combinations:\n",
        "    count[i]=count.get(i,0)+1\n",
        "  for i in range(2,13):\n",
        "    cout=count.get(i,0)\n",
        "    probability=cout\n",
        "    indeci=cout/len(combinations)\n",
        "    value.append(probability)\n",
        "    print(f\"Sum: {i}, Probability: {probability}/{len(combinations)}, in decimal: {indeci}\")\n",
        "prob(DieA,DieB)"
      ],
      "metadata": {
        "colab": {
          "base_uri": "https://localhost:8080/"
        },
        "id": "LGSh8JlUyqYv",
        "outputId": "3cdb059a-ace5-46b5-d188-d881f218557f"
      },
      "execution_count": 35,
      "outputs": [
        {
          "output_type": "stream",
          "name": "stdout",
          "text": [
            "Sum: 2, Probability: 1/36, in decimal: 0.027777777777777776\n",
            "Sum: 3, Probability: 2/36, in decimal: 0.05555555555555555\n",
            "Sum: 4, Probability: 3/36, in decimal: 0.08333333333333333\n",
            "Sum: 5, Probability: 4/36, in decimal: 0.1111111111111111\n",
            "Sum: 6, Probability: 5/36, in decimal: 0.1388888888888889\n",
            "Sum: 7, Probability: 6/36, in decimal: 0.16666666666666666\n",
            "Sum: 8, Probability: 5/36, in decimal: 0.1388888888888889\n",
            "Sum: 9, Probability: 4/36, in decimal: 0.1111111111111111\n",
            "Sum: 10, Probability: 3/36, in decimal: 0.08333333333333333\n",
            "Sum: 11, Probability: 2/36, in decimal: 0.05555555555555555\n",
            "Sum: 12, Probability: 1/36, in decimal: 0.027777777777777776\n"
          ]
        }
      ]
    }
  ]
}