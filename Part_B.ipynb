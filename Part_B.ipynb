{
  "nbformat": 4,
  "nbformat_minor": 0,
  "metadata": {
    "colab": {
      "provenance": []
    },
    "kernelspec": {
      "name": "python3",
      "display_name": "Python 3"
    },
    "language_info": {
      "name": "python"
    }
  },
  "cells": [
    {
      "cell_type": "code",
      "execution_count": 54,
      "metadata": {
        "id": "QEGx2Tg74TiA"
      },
      "outputs": [],
      "source": [
        "def undoom_dice(Die_A, Die_B):\n",
        "    New_Die_A = []\n",
        "    New_Die_B = []\n",
        "    for i in Die_A:\n",
        "        if i >4 :\n",
        "            New_Die_A.append(i-3)\n",
        "        else:\n",
        "            New_Die_A.append(i)\n",
        "    for j in Die_B:\n",
        "        if j % 2 == 0:\n",
        "            New_Die_B.append(j+2)\n",
        "        else:\n",
        "            New_Die_B.append(j)\n",
        "    return sorted(New_Die_A), sorted(New_Die_B)\n",
        "Die_A = [1, 2, 3, 4, 5, 6]\n",
        "Die_B = [1, 2, 3, 4, 5, 6]\n",
        ""
      ]
    },
    {
      "cell_type": "code",
      "source": [
        "combinations =[]\n",
        "for i in New_Die_A:\n",
        "  for j in New_Die_B:\n",
        "    sum= i+j\n",
        "    combinations.append(sum)\n",
        "count={}\n",
        "l=[]\n",
        "for i in combinations:\n",
        "  count[i]=count.get(i,0)+1\n",
        "for i in range(2,13):\n",
        "  cout=count.get(i,0)\n",
        "  l.append(cout)\n",
        "  print(f\"Sum: {i}, Probability: {cout}\")\n"
      ],
      "metadata": {
        "colab": {
          "base_uri": "https://localhost:8080/"
        },
        "id": "H_p8p8-I47CC",
        "outputId": "d4202020-3254-4af7-f41e-21adf3a005ce"
      },
      "execution_count": 55,
      "outputs": [
        {
          "output_type": "stream",
          "name": "stdout",
          "text": [
            "Sum: 2, Probability: 1\n",
            "Sum: 3, Probability: 2\n",
            "Sum: 4, Probability: 3\n",
            "Sum: 5, Probability: 4\n",
            "Sum: 6, Probability: 5\n",
            "Sum: 7, Probability: 6\n",
            "Sum: 8, Probability: 5\n",
            "Sum: 9, Probability: 4\n",
            "Sum: 10, Probability: 3\n",
            "Sum: 11, Probability: 2\n",
            "Sum: 12, Probability: 1\n"
          ]
        }
      ]
    },
    {
      "cell_type": "code",
      "source": [
        "print(Die_A, Die_B)"
      ],
      "metadata": {
        "colab": {
          "base_uri": "https://localhost:8080/"
        },
        "id": "efe1BlU48_vj",
        "outputId": "4f3c81d2-c543-4c6a-9c54-2f5fb9c17e20"
      },
      "execution_count": 57,
      "outputs": [
        {
          "output_type": "stream",
          "name": "stdout",
          "text": [
            "[1, 2, 3, 4, 5, 6] [1, 2, 3, 4, 5, 6]\n"
          ]
        }
      ]
    },
    {
      "cell_type": "code",
      "source": [
        "combinations =[]\n",
        "for i in Die_A:\n",
        "  for j in Die_B:\n",
        "    sum= i+j\n",
        "    combinations.append(sum)\n",
        "count={}\n",
        "l1=[]\n",
        "for i in combinations:\n",
        "  count[i]=count.get(i,0)+1\n",
        "for i in range(2,13):\n",
        "  cout=count.get(i,0)\n",
        "  l1.append(cout)\n",
        "  print(f\"Sum: {i}, Probability: {cout}\")\n"
      ],
      "metadata": {
        "colab": {
          "base_uri": "https://localhost:8080/"
        },
        "id": "4JiWxioj42rI",
        "outputId": "7a16b6f6-8597-4b6d-90f7-83c9ab86aa76"
      },
      "execution_count": 58,
      "outputs": [
        {
          "output_type": "stream",
          "name": "stdout",
          "text": [
            "Sum: 2, Probability: 1\n",
            "Sum: 3, Probability: 2\n",
            "Sum: 4, Probability: 3\n",
            "Sum: 5, Probability: 4\n",
            "Sum: 6, Probability: 5\n",
            "Sum: 7, Probability: 6\n",
            "Sum: 8, Probability: 5\n",
            "Sum: 9, Probability: 4\n",
            "Sum: 10, Probability: 3\n",
            "Sum: 11, Probability: 2\n",
            "Sum: 12, Probability: 1\n"
          ]
        }
      ]
    },
    {
      "cell_type": "code",
      "source": [
        "if l==l1:\n",
        "  print(\"True\")\n",
        "else:\n",
        "  print(\"False\")"
      ],
      "metadata": {
        "colab": {
          "base_uri": "https://localhost:8080/"
        },
        "id": "3BOwPFNO74zh",
        "outputId": "5c5d2acc-431b-4f03-afe2-069b347f9d5c"
      },
      "execution_count": 59,
      "outputs": [
        {
          "output_type": "stream",
          "name": "stdout",
          "text": [
            "True\n"
          ]
        }
      ]
    },
    {
      "cell_type": "code",
      "source": [
        "New_Die_A, New_Die_B = undoom_dice(Die_A, Die_B)\n",
        "print(\"New_Die_A:\", New_Die_A)\n",
        "print(\"New_Die_B:\", New_Die_B)"
      ],
      "metadata": {
        "colab": {
          "base_uri": "https://localhost:8080/"
        },
        "id": "GSdaoGxh76fP",
        "outputId": "bebec20e-e8dd-4ef3-f8db-f0e6ac04d0bb"
      },
      "execution_count": 60,
      "outputs": [
        {
          "output_type": "stream",
          "name": "stdout",
          "text": [
            "New_Die_A: [1, 2, 2, 3, 3, 4]\n",
            "New_Die_B: [1, 3, 4, 5, 6, 8]\n"
          ]
        }
      ]
    }
  ]
}