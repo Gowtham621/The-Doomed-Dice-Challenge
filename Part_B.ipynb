{
  "nbformat": 4,
  "nbformat_minor": 0,
  "metadata": {
    "colab": {
      "provenance": []
    },
    "kernelspec": {
      "name": "python3",
      "display_name": "Python 3"
    },
    "language_info": {
      "name": "python"
    }
  },
  "cells": [
    {
      "cell_type": "markdown",
      "source": [
        "Part-B (25-30 Minutes):\n",
        "Now comes the real challenge. You were happily spending a lazy afternoon playing\n",
        "your board game with your dice when suddenly the mischievous Norse God Loki ( You\n",
        "love Thor too much & Loki didn’t like that much ) appeared.\n",
        "Loki dooms your dice for his fun removing all the “Spots” off the dice.\n",
        "No problem! You have the tools to re-attach the “Spots” back on the Dice.\n",
        "However, Loki has doomed your dice with the following conditions:\n",
        "● Die A cannot have more than 4 Spots on a face.\n",
        "● Die A may have multiple faces with the same number of spots.\n",
        "● Die B can have as many spots on a face as necessary i.e. even more than 6.\n",
        "But in order to play your game, the probability of obtaining the Sums must remain the\n",
        "same!\n",
        "So if you could only roll P(Sum = 2) = 1/X, the new dice must have the spots reattached\n",
        "such that those probabilities are not changed.\n",
        "Input:\n",
        "● Die_A = [1, 2, 3, 4, 5, 6] & Die B = Die_A = [1, 2, 3, 4, 5, 6]\n",
        "Output:\n",
        "● A Transform Function undoom_dice that takes (Die_A, Die_B) as input &\n",
        "outputs New_Die_A = [?, ?, ?, ?, ?, ?],New_Die_B = [?, ?,\n",
        "?, ?, ?, ?] where,\n",
        "● No New_Die A[x] > 4"
      ],
      "metadata": {
        "id": "2YuH-iGf9AWW"
      }
    },
    {
      "cell_type": "code",
      "execution_count": 10,
      "metadata": {
        "id": "QEGx2Tg74TiA"
      },
      "outputs": [],
      "source": [
        "def undoom_dice(Die_A, Die_B):\n",
        "    New_Die_A = []\n",
        "    New_Die_B = []\n",
        "    for i in Die_A:\n",
        "        if i >4 :\n",
        "            New_Die_A.append(i-3)\n",
        "        else:\n",
        "            New_Die_A.append(i)\n",
        "    for j in Die_B:\n",
        "        if j % 2 == 0:\n",
        "            New_Die_B.append(j+2)\n",
        "        else:\n",
        "            New_Die_B.append(j)\n",
        "    return sorted(New_Die_A), sorted(New_Die_B)\n",
        "Die_A = [1, 2, 3, 4, 5, 6]\n",
        "Die_B = [1, 2, 3, 4, 5, 6]\n"
      ]
    },
    {
      "cell_type": "code",
      "source": [
        "New_Die_A, New_Die_B = undoom_dice(Die_A, Die_B)\n",
        "print(\"New_Die_A:\", New_Die_A)\n",
        "print(\"New_Die_B:\", New_Die_B)"
      ],
      "metadata": {
        "colab": {
          "base_uri": "https://localhost:8080/"
        },
        "id": "GSdaoGxh76fP",
        "outputId": "2152e1c2-b2c1-4279-825a-1ce5cdcefe9c"
      },
      "execution_count": 11,
      "outputs": [
        {
          "output_type": "stream",
          "name": "stdout",
          "text": [
            "New_Die_A: [1, 2, 2, 3, 3, 4]\n",
            "New_Die_B: [1, 3, 4, 5, 6, 8]\n"
          ]
        }
      ]
    },
    {
      "cell_type": "markdown",
      "source": [
        "Justification for the output generated\n"
      ],
      "metadata": {
        "id": "enJtBkCy9Tdq"
      }
    },
    {
      "cell_type": "code",
      "source": [
        "combinations =[]\n",
        "for i in New_Die_A:\n",
        "  for j in New_Die_B:\n",
        "    sum= i+j\n",
        "    combinations.append(sum)\n",
        "count={}\n",
        "l=[]\n",
        "for i in combinations:\n",
        "  count[i]=count.get(i,0)+1\n",
        "for i in range(2,13):\n",
        "  cout=count.get(i,0)\n",
        "  l.append(cout)\n",
        "  print(f\"Sum: {i}, Probability: {cout}\")\n"
      ],
      "metadata": {
        "colab": {
          "base_uri": "https://localhost:8080/"
        },
        "id": "H_p8p8-I47CC",
        "outputId": "6cf72983-3749-436f-b927-47ac27fbd6f5"
      },
      "execution_count": 12,
      "outputs": [
        {
          "output_type": "stream",
          "name": "stdout",
          "text": [
            "Sum: 2, Probability: 1\n",
            "Sum: 3, Probability: 2\n",
            "Sum: 4, Probability: 3\n",
            "Sum: 5, Probability: 4\n",
            "Sum: 6, Probability: 5\n",
            "Sum: 7, Probability: 6\n",
            "Sum: 8, Probability: 5\n",
            "Sum: 9, Probability: 4\n",
            "Sum: 10, Probability: 3\n",
            "Sum: 11, Probability: 2\n",
            "Sum: 12, Probability: 1\n"
          ]
        }
      ]
    },
    {
      "cell_type": "code",
      "source": [
        "combinations =[]\n",
        "for i in Die_A:\n",
        "  for j in Die_B:\n",
        "    sum= i+j\n",
        "    combinations.append(sum)\n",
        "count={}\n",
        "l1=[]\n",
        "for i in combinations:\n",
        "  count[i]=count.get(i,0)+1\n",
        "for i in range(2,13):\n",
        "  cout=count.get(i,0)\n",
        "  l1.append(cout)\n",
        "  print(f\"Sum: {i}, Probability: {cout}\")\n"
      ],
      "metadata": {
        "colab": {
          "base_uri": "https://localhost:8080/"
        },
        "id": "4JiWxioj42rI",
        "outputId": "d674656a-64e4-4407-e7f5-2cc232454eed"
      },
      "execution_count": 13,
      "outputs": [
        {
          "output_type": "stream",
          "name": "stdout",
          "text": [
            "Sum: 2, Probability: 1\n",
            "Sum: 3, Probability: 2\n",
            "Sum: 4, Probability: 3\n",
            "Sum: 5, Probability: 4\n",
            "Sum: 6, Probability: 5\n",
            "Sum: 7, Probability: 6\n",
            "Sum: 8, Probability: 5\n",
            "Sum: 9, Probability: 4\n",
            "Sum: 10, Probability: 3\n",
            "Sum: 11, Probability: 2\n",
            "Sum: 12, Probability: 1\n"
          ]
        }
      ]
    },
    {
      "cell_type": "code",
      "source": [
        "if l==l1:\n",
        "  print(\"True\")\n",
        "else:\n",
        "  print(\"False\")"
      ],
      "metadata": {
        "colab": {
          "base_uri": "https://localhost:8080/"
        },
        "id": "3BOwPFNO74zh",
        "outputId": "ee1bfb01-a358-4a15-80d9-a45452922f5e"
      },
      "execution_count": 14,
      "outputs": [
        {
          "output_type": "stream",
          "name": "stdout",
          "text": [
            "True\n"
          ]
        }
      ]
    }
  ]
}